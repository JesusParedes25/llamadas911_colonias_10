{
 "cells": [
  {
   "cell_type": "code",
   "execution_count": 43,
   "id": "2a622cdd-a9f4-4acc-bfc3-e0a240c2877c",
   "metadata": {
    "tags": []
   },
   "outputs": [
    {
     "data": {
      "application/vnd.jupyter.widget-view+json": {
       "model_id": "8288869bc5264dfbb56e33f49e7c0c2d",
       "version_major": 2,
       "version_minor": 0
      },
      "text/plain": [
       "Dropdown(description='Municipio:', options=('ACATLAN', 'ACAXOCHITLÁN', 'ACTOPAN', 'AGUA BLANCA DE ITURBIDE', '…"
      ]
     },
     "metadata": {},
     "output_type": "display_data"
    },
    {
     "data": {
      "application/vnd.jupyter.widget-view+json": {
       "model_id": "9da750cf49e64ee4b0c253434eba28f1",
       "version_major": 2,
       "version_minor": 0
      },
      "text/plain": [
       "Dropdown(description='Colonia:', options=(), value=None)"
      ]
     },
     "metadata": {},
     "output_type": "display_data"
    },
    {
     "data": {
      "application/vnd.jupyter.widget-view+json": {
       "model_id": "95fde32ed027400fa8077acdcbbbd5c4",
       "version_major": 2,
       "version_minor": 0
      },
      "text/plain": [
       "Output()"
      ]
     },
     "metadata": {},
     "output_type": "display_data"
    }
   ],
   "source": [
    "#Join colonias sigeh con colonias seguridad pública\n",
    "import pandas as pd\n",
    "\n",
    "# Cargar los archivos CSV en DataFrames\n",
    "df_colonias = pd.read_csv('colonias_sigeh.csv')\n",
    "\n",
    "\n",
    "\n",
    "# Realizar una agregación para contar las categorías de 'INCIDENTE 9-1-1' por 'COLONIAS.x'\n",
    "agregado = df_colonias.groupby(['MUNICIPIO', 'COLONIAS.x','INCIDENTE 9-1-1']).size().reset_index(name='Total')\n",
    "\n",
    "# Reorganizar los datos para que cada fila sea una 'COLONIAS.x'\n",
    "llamadas_por_colonia_df = agregado.pivot_table(index=['MUNICIPIO', 'COLONIAS.x'], columns='INCIDENTE 9-1-1', values='Total', fill_value=0).reset_index()\n",
    "\n",
    "# Guardar el resultado en un archivo CSV\n",
    "llamadas_por_colonia_df.to_csv('llamadas_por_colonia.csv', index=False)\n",
    "import pandas as pd\n",
    "import ipywidgets as widgets\n",
    "import matplotlib.pyplot as plt\n",
    "from IPython.display import display, clear_output\n",
    "\n",
    "# Cargar el DataFrame llamadas_por_colonia_df (asegúrate de tenerlo cargado)\n",
    "\n",
    "# Crear un widget para seleccionar el municipio\n",
    "municipio_widget = widgets.Dropdown(\n",
    "    options=llamadas_por_colonia_df['MUNICIPIO'].unique(),\n",
    "    description='Municipio:'\n",
    ")\n",
    "\n",
    "# Crear un widget para seleccionar la colonia\n",
    "colonia_widget = widgets.Dropdown(\n",
    "    options=[],\n",
    "    description='Colonia:'\n",
    ")\n",
    "\n",
    "# Crear un widget de salida para mostrar el gráfico\n",
    "output_widget = widgets.Output()\n",
    "\n",
    "# Función para actualizar las opciones de colonia según el municipio seleccionado\n",
    "def actualizar_colonias(*args):\n",
    "    colonias = llamadas_por_colonia_df[llamadas_por_colonia_df['MUNICIPIO'] == municipio_widget.value]['COLONIAS.x'].unique()\n",
    "    colonia_widget.options = colonias\n",
    "\n",
    "# Función para mostrar el gráfico de las 10 llamadas más comunes para la colonia seleccionada\n",
    "def mostrar_grafico(change):\n",
    "    with output_widget:\n",
    "        clear_output(wait=True)\n",
    "        colonia = change.new\n",
    "        llamadas_comunes = llamadas_por_colonia_df[(llamadas_por_colonia_df['MUNICIPIO'] == municipio_widget.value) & (llamadas_por_colonia_df['COLONIAS.x'] == colonia)]\n",
    "        llamadas_comunes = llamadas_comunes.iloc[:, 4:].sum().nlargest(10)\n",
    "        llamadas_comunes.plot(kind='bar', figsize=(12, 6))\n",
    "        plt.title(f'Top 10 Llamadas más Comunes en {colonia}, {municipio_widget.value}')\n",
    "        plt.xlabel('Tipo de Llamada')\n",
    "        plt.ylabel('Número de Llamadas')\n",
    "        plt.xticks(rotation=90)\n",
    "        plt.show()\n",
    "\n",
    "# Asociar la función de actualización al evento de cambio en el municipio seleccionado\n",
    "municipio_widget.observe(actualizar_colonias, 'value')\n",
    "\n",
    "# Asociar la función de mostrar el gráfico al evento de cambio en la colonia seleccionada\n",
    "colonia_widget.observe(mostrar_grafico, names='value')\n",
    "\n",
    "# Mostrar los widgets\n",
    "display(municipio_widget)\n",
    "display(colonia_widget)\n",
    "display(output_widget)\n"
   ]
  }
 ],
 "metadata": {
  "kernelspec": {
   "display_name": "Python 3 (ipykernel)",
   "language": "python",
   "name": "python3"
  },
  "language_info": {
   "codemirror_mode": {
    "name": "ipython",
    "version": 3
   },
   "file_extension": ".py",
   "mimetype": "text/x-python",
   "name": "python",
   "nbconvert_exporter": "python",
   "pygments_lexer": "ipython3",
   "version": "3.11.3"
  }
 },
 "nbformat": 4,
 "nbformat_minor": 5
}
